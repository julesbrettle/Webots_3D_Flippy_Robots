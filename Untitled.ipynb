{
 "cells": [
  {
   "cell_type": "code",
   "execution_count": 10,
   "metadata": {},
   "outputs": [
    {
     "name": "stdout",
     "output_type": "stream",
     "text": [
      "[1. 1. 1.]\n",
      "[1. 1. 1.]\n",
      "[1. 1. 1.]\n",
      "[1. 1. 1.]\n",
      "[1. 1. 1.]\n",
      "(5, 3)\n"
     ]
    }
   ],
   "source": [
    "list(range(4,1))\n",
    "a = \"the dog dog cat cat\"\n",
    "a= a.replace('dog', 'sdlfj')\n",
    "\n",
    "import numpy as np\n",
    "a = np.ones((5,3))\n",
    "for row in a:\n",
    "    print(row)\n",
    "    \n",
    "print(a.shape)\n"
   ]
  },
  {
   "cell_type": "code",
   "execution_count": 31,
   "metadata": {},
   "outputs": [
    {
     "name": "stdout",
     "output_type": "stream",
     "text": [
      "[1.56998796 0.05910883 0.05910883]\n",
      "[ 1.56295848 -0.18393794 -0.18393794]\n",
      "[ 1.56335622 -0.17921651 -0.17921651]\n",
      "[ 1.5674945  -0.11943378 -0.11943378]\n",
      "[ 1.57075638 -0.01314058 -0.01314058]\n",
      "[ 1.56295906 -0.18393106 -0.18393106]\n",
      "[1.57076294 0.0120137  0.0120137 ]\n",
      "[1.56915582 0.08419855 0.08419855]\n",
      "[ 1.54986129 -0.30025951 -0.30025951]\n",
      "[1.53803151 0.37523195 0.37523195]\n",
      "[ 1.56520461 -0.15539365 -0.15539365]\n",
      "[ 1.56798566 -0.11019819 -0.11019819]\n"
     ]
    }
   ],
   "source": [
    "from scipy.spatial.transform import Rotation as R\n",
    "\n",
    "dims = np.array([2,2,3])\n",
    "spacing = np.ones_like(dims)\n",
    "offset = np.ones_like(dims)\n",
    "\n",
    "rot_noise = (0, 15*np.pi/180)\n",
    "\n",
    "x_dim, y_dim, z_dim = dims\n",
    "x_space, y_space, z_space = spacing\n",
    "x_start, y_start, z_start = offset\n",
    "\n",
    "xs = np.arange(x_dim) * x_space + x_start\n",
    "ys = np.arange(y_dim) * y_space + y_start\n",
    "zs = np.arange(z_dim) * z_space + z_start\n",
    "\n",
    "x_mesh, y_mesh, z_mesh = np.meshgrid(xs, ys, zs)\n",
    "\n",
    "for i,(x,y,z) in enumerate(zip(x_mesh.ravel(), y_mesh.ravel(), z_mesh.ravel())):\n",
    "    r1 = R.from_euler('x', 90, degrees=True)\n",
    "    r2 = R.from_euler('z', np.random.normal(*rot_noise))\n",
    "    r = (r2 * r1).as_rotvec()\n",
    "    print(r)"
   ]
  },
  {
   "cell_type": "code",
   "execution_count": 35,
   "metadata": {},
   "outputs": [
    {
     "name": "stdout",
     "output_type": "stream",
     "text": [
      "[[ 9.99999927e-01 -2.69748893e-04 -2.69748893e-04  1.57079640e+00]\n",
      " [ 9.86632080e-01  1.15232674e-01  1.15232674e-01  1.58425400e+00]\n",
      " [ 8.57801108e-01 -3.63439994e-01 -3.63439994e-01  1.72358143e+00]\n",
      " [ 9.73578976e-01 -1.61468229e-01 -1.61468229e-01  1.59756946e+00]\n",
      " [ 9.98165308e-01  4.28136496e-02  4.28136496e-02  1.57263270e+00]\n",
      " [ 9.97684916e-01 -4.80874626e-02 -4.80874626e-02  1.57311409e+00]\n",
      " [ 9.67560028e-01 -1.78644327e-01 -1.78644327e-01  1.60376816e+00]\n",
      " [ 9.99943764e-01 -7.49894867e-03 -7.49894867e-03  1.57085256e+00]\n",
      " [ 9.99694434e-01 -1.74791133e-02 -1.74791133e-02  1.57110194e+00]\n",
      " [ 9.40715439e-01  2.39848351e-01  2.39848351e-01  1.63187291e+00]\n",
      " [ 9.99571842e-01  2.06897523e-02  2.06897523e-02  1.57122458e+00]\n",
      " [ 9.69230595e-01  1.74057539e-01  1.74057539e-01  1.60204396e+00]]\n"
     ]
    }
   ],
   "source": [
    "x_dim, y_dim, z_dim = dims\n",
    "x_space, y_space, z_space = spacing\n",
    "x_start, y_start, z_start = offset\n",
    "\n",
    "xs = np.arange(x_dim) * x_space + x_start\n",
    "ys = np.arange(y_dim) * y_space + y_start\n",
    "zs = np.arange(z_dim) * z_space + z_start\n",
    "\n",
    "x_mesh, y_mesh, z_mesh = np.meshgrid(xs, ys, zs)\n",
    "locs = np.empty((x_mesh.size, 3))\n",
    "rotations = np.empty((x_mesh.size, 4))\n",
    "\n",
    "for i, (x,y,z) in enumerate(zip(x_mesh.ravel(), y_mesh.ravel(), z_mesh.ravel())):\n",
    "    # locs[i] = make_noise(x_noise, y_noise, z_noise)\n",
    "    r1 = R.from_euler('x', 90, degrees=True)\n",
    "    r2 = R.from_euler('z', np.random.normal(*rot_noise))\n",
    "    r = (r2 * r1).as_rotvec()\n",
    "    rads = np.linalg.norm(r)\n",
    "    r = r / rads\n",
    "    rot_vec = np.append(r, rads)\n",
    "    rotations[i] = rot_vec\n",
    "print(rotations)"
   ]
  },
  {
   "cell_type": "code",
   "execution_count": 38,
   "metadata": {},
   "outputs": [],
   "source": [
    "a= \" asdklfjasldkfj\"\n",
    "\n",
    "b = None\n",
    "if b:\n",
    "    print('hi')"
   ]
  },
  {
   "cell_type": "code",
   "execution_count": null,
   "metadata": {},
   "outputs": [],
   "source": []
  }
 ],
 "metadata": {
  "kernelspec": {
   "display_name": "Python 3",
   "language": "python",
   "name": "python3"
  },
  "language_info": {
   "codemirror_mode": {
    "name": "ipython",
    "version": 3
   },
   "file_extension": ".py",
   "mimetype": "text/x-python",
   "name": "python",
   "nbconvert_exporter": "python",
   "pygments_lexer": "ipython3",
   "version": "3.8.5"
  }
 },
 "nbformat": 4,
 "nbformat_minor": 4
}
